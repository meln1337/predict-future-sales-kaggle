{
 "cells": [
  {
   "cell_type": "code",
   "execution_count": 2,
   "id": "3659b9a0-09bd-4765-918d-50dbf20c4be8",
   "metadata": {},
   "outputs": [],
   "source": [
    "# !kaggle competitions download -c competitive-data-science-predict-future-sales"
   ]
  },
  {
   "cell_type": "code",
   "execution_count": 3,
   "id": "94f601c0-5e15-4d4e-be2d-75256191bfe8",
   "metadata": {},
   "outputs": [],
   "source": [
    "# from zipfile import ZipFile"
   ]
  },
  {
   "cell_type": "code",
   "execution_count": 4,
   "id": "83fdca11-b57a-4e41-ab20-a387f7e8b959",
   "metadata": {},
   "outputs": [],
   "source": [
    "# with ZipFile('competitive-data-science-predict-future-sales.zip', 'r') as zipObj:\n",
    "#     zipObj.extractall()"
   ]
  },
  {
   "cell_type": "code",
   "execution_count": 5,
   "id": "bd63d24f-bec7-4e5d-beda-027cb2780eab",
   "metadata": {},
   "outputs": [],
   "source": [
    "import numpy as np\n",
    "import pandas as pd\n",
    "import matplotlib.pyplot as plt\n",
    "import seaborn as sns"
   ]
  },
  {
   "cell_type": "code",
   "execution_count": 6,
   "id": "0ac9db6c-1d4d-4fca-99e7-33f4d86355ad",
   "metadata": {},
   "outputs": [],
   "source": [
    "sns.set_theme()"
   ]
  }
 ],
 "metadata": {
  "kernelspec": {
   "display_name": "Python 3 (ipykernel)",
   "language": "python",
   "name": "python3"
  },
  "language_info": {
   "codemirror_mode": {
    "name": "ipython",
    "version": 3
   },
   "file_extension": ".py",
   "mimetype": "text/x-python",
   "name": "python",
   "nbconvert_exporter": "python",
   "pygments_lexer": "ipython3",
   "version": "3.9.7"
  },
  "toc-autonumbering": false
 },
 "nbformat": 4,
 "nbformat_minor": 5
}
